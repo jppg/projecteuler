{
  "nbformat": 4,
  "nbformat_minor": 0,
  "metadata": {
    "colab": {
      "name": "015-LatticePaths.ipynb",
      "provenance": [],
      "include_colab_link": true
    },
    "kernelspec": {
      "name": "python3",
      "display_name": "Python 3"
    }
  },
  "cells": [
    {
      "cell_type": "markdown",
      "metadata": {
        "id": "view-in-github",
        "colab_type": "text"
      },
      "source": [
        "<a href=\"https://colab.research.google.com/github/jppg/projecteuler/blob/master/015_LatticePaths.ipynb\" target=\"_parent\"><img src=\"https://colab.research.google.com/assets/colab-badge.svg\" alt=\"Open In Colab\"/></a>"
      ]
    },
    {
      "cell_type": "markdown",
      "metadata": {
        "id": "W5ZBFXOa60ld",
        "colab_type": "text"
      },
      "source": [
        "## Lattice paths\n",
        "\n",
        "Starting in the top left corner of a 2×2 grid, and only being able to move to the right and down, there are exactly 6 routes to the bottom right corner.\n",
        "\n",
        "Math principles: Paths on a Grid: Two Approaches\n",
        "https://www.youtube.com/watch?v=trIkPmwTSyA\n",
        "\n",
        "How many such routes are there through a 20×20 grid?\n"
      ]
    },
    {
      "cell_type": "code",
      "metadata": {
        "id": "3-UrPuvc6hTA",
        "colab_type": "code",
        "colab": {
          "base_uri": "https://localhost:8080/",
          "height": 34
        },
        "outputId": "7e34c9d9-6560-422f-a118-3b43550e3dc4"
      },
      "source": [
        "import numpy\n",
        "\n",
        "def calcPathsOnGrid(m,n):\n",
        "  grid = numpy.zeros((m, n))\n",
        "  nPaths = 0\n",
        "  for i in range(0, m):\n",
        "    for j in range(0,n):\n",
        "      if(i == 0 and j == 0):\n",
        "        grid[i][j] = 2\n",
        "      elif(i == 0):\n",
        "        grid[i][j] = grid[i][j-1] + 1\n",
        "      elif(j == 0):\n",
        "        grid[i][j] = grid[i-1][j] + 1\n",
        "      else:\n",
        "        grid[i][j] = grid[i-1][j] + grid[i][j-1]\n",
        "      #print(i, \":\", j, \" = \", grid[i][j])\n",
        "  print(\"Result: \", grid[m-1][n-1])\n",
        "\n",
        "calcPathsOnGrid(20,20)"
      ],
      "execution_count": 25,
      "outputs": [
        {
          "output_type": "stream",
          "text": [
            "Result:  137846528820.0\n"
          ],
          "name": "stdout"
        }
      ]
    },
    {
      "cell_type": "code",
      "metadata": {
        "id": "-aZ_sr20Z4Dj",
        "colab_type": "code",
        "colab": {}
      },
      "source": [
        ""
      ],
      "execution_count": 0,
      "outputs": []
    },
    {
      "cell_type": "code",
      "metadata": {
        "id": "zizoafjZYQgC",
        "colab_type": "code",
        "colab": {}
      },
      "source": [
        ""
      ],
      "execution_count": 0,
      "outputs": []
    }
  ]
}