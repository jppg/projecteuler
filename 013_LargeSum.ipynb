{
  "nbformat": 4,
  "nbformat_minor": 0,
  "metadata": {
    "colab": {
      "name": "013-LargeSum.ipynb",
      "provenance": [],
      "toc_visible": true,
      "include_colab_link": true
    },
    "kernelspec": {
      "name": "python3",
      "display_name": "Python 3"
    }
  },
  "cells": [
    {
      "cell_type": "markdown",
      "metadata": {
        "id": "view-in-github",
        "colab_type": "text"
      },
      "source": [
        "<a href=\"https://colab.research.google.com/github/jppg/projecteuler/blob/master/013_LargeSum.ipynb\" target=\"_parent\"><img src=\"https://colab.research.google.com/assets/colab-badge.svg\" alt=\"Open In Colab\"/></a>"
      ]
    },
    {
      "cell_type": "markdown",
      "metadata": {
        "id": "dXoTkDVghCVh",
        "colab_type": "text"
      },
      "source": [
        "## Large sum"
      ]
    },
    {
      "cell_type": "markdown",
      "metadata": {
        "id": "GOELHCNAhQNk",
        "colab_type": "text"
      },
      "source": [
        "Work out the first ten digits of the sum of the following one-hundred 50-digit numbers."
      ]
    },
    {
      "cell_type": "code",
      "metadata": {
        "id": "34QV6qplhWhc",
        "colab_type": "code",
        "colab": {}
      },
      "source": [
        "! touch 013bignumber.txt"
      ],
      "execution_count": 0,
      "outputs": []
    },
    {
      "cell_type": "code",
      "metadata": {
        "id": "30Na1VMT7lAn",
        "colab_type": "code",
        "colab": {}
      },
      "source": [
        "file = open(\"013bignumber.txt\", \"r\") \n",
        "bignumber = []\n",
        "for line in file: \n",
        "  bignumber.append(int(line)) "
      ],
      "execution_count": 0,
      "outputs": []
    },
    {
      "cell_type": "code",
      "metadata": {
        "id": "enC09Bqv8Aty",
        "colab_type": "code",
        "colab": {
          "base_uri": "https://localhost:8080/",
          "height": 34
        },
        "outputId": "5715e72e-e519-4297-aec1-0147c3772b13"
      },
      "source": [
        "sumn = 0\n",
        "for n in bignumber:\n",
        "  sumn += n\n",
        "\n",
        "print(sumn)"
      ],
      "execution_count": 8,
      "outputs": [
        {
          "output_type": "stream",
          "text": [
            "5537376230390876637302048746832985971773659831892672\n"
          ],
          "name": "stdout"
        }
      ]
    },
    {
      "cell_type": "code",
      "metadata": {
        "id": "rLldFSCf8aZt",
        "colab_type": "code",
        "colab": {}
      },
      "source": [
        ""
      ],
      "execution_count": 0,
      "outputs": []
    }
  ]
}