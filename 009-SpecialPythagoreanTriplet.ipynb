{
  "cells": [
    {
      "metadata": {
        "collapsed": true
      },
      "cell_type": "markdown",
      "source": "## Special Pythagorean triplet"
    },
    {
      "metadata": {},
      "cell_type": "markdown",
      "source": "A Pythagorean triplet is a set of three natural numbers, a < b < c, for which,\na^2 + b^2 = c^2\n\nFor example, 3^2 + 4^2 = 9 + 16 = 25 = 5^2.\n\nThere exists exactly one Pythagorean triplet for which a + b + c = 1000.\nFind the product abc."
    },
    {
      "metadata": {},
      "cell_type": "markdown",
      "source": "https://tutors.com/math-tutors/geometry-help/pythagorean-triples"
    },
    {
      "metadata": {
        "trusted": true
      },
      "cell_type": "code",
      "source": "def is_prime(n):\n    result = True\n    for i in range(2,n):\n        if(n%i == 0):\n            result = False\n            break\n    return result",
      "execution_count": 35,
      "outputs": []
    },
    {
      "metadata": {
        "trusted": true
      },
      "cell_type": "code",
      "source": "def prime_numbers(n):\n    nprimes = []\n    for i in range(2,n):\n        if is_prime(i):\n            nprimes.append(i)\n    return nprimes",
      "execution_count": 36,
      "outputs": []
    },
    {
      "metadata": {
        "trusted": true
      },
      "cell_type": "code",
      "source": "import math\n\na = 0\nb = 0\nc = 0\n#lst_prime_numbers = prime_numbers(1000)\n\nfor n in range(1, 1000):\n    for m in range(n,1000):\n        a = math.pow(m,2) - math.pow(n,2)\n        b = 2 * n * m\n        c = math.pow(m,2) + math.pow(n,2)\n        if a + b + c == 1000:\n            print(\"a=\", a, \" / b=\", b, \" / c=\", c, \" prd=\", a*b*c)",
      "execution_count": 45,
      "outputs": [
        {
          "output_type": "stream",
          "text": "a= 375.0  / b= 200  / c= 425.0  prd= 31875000.0\n",
          "name": "stdout"
        }
      ]
    },
    {
      "metadata": {
        "trusted": true
      },
      "cell_type": "code",
      "source": "",
      "execution_count": null,
      "outputs": []
    }
  ],
  "metadata": {
    "kernelspec": {
      "name": "python36",
      "display_name": "Python 3.6",
      "language": "python"
    },
    "language_info": {
      "mimetype": "text/x-python",
      "nbconvert_exporter": "python",
      "name": "python",
      "pygments_lexer": "ipython3",
      "version": "3.6.6",
      "file_extension": ".py",
      "codemirror_mode": {
        "version": 3,
        "name": "ipython"
      }
    }
  },
  "nbformat": 4,
  "nbformat_minor": 2
}