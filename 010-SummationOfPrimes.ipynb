{
  "cells": [
    {
      "metadata": {
        "collapsed": true
      },
      "cell_type": "markdown",
      "source": "## Summation of primes"
    },
    {
      "metadata": {},
      "cell_type": "markdown",
      "source": "The sum of the primes below 10 is 2 + 3 + 5 + 7 = 17.\n\nFind the sum of all the primes below two million."
    },
    {
      "metadata": {
        "trusted": true
      },
      "cell_type": "code",
      "source": "import pandas as pd\n\n\n#df = pd.read_csv('primes1.txt',delimiter=\"\\t\",header=None)\ndf = pd.read_csv('primes1.txt', delimiter= '\\s+', index_col=False,header=None)\nresult = 0\nfor i, row in df.iteritems(): \n    for j, col in row.iteritems():\n        if col < 2000000:\n            result += col\nprint(result)",
      "execution_count": 37,
      "outputs": [
        {
          "output_type": "stream",
          "text": "142913828922\n",
          "name": "stdout"
        }
      ]
    },
    {
      "metadata": {
        "trusted": true
      },
      "cell_type": "code",
      "source": "",
      "execution_count": null,
      "outputs": []
    }
  ],
  "metadata": {
    "kernelspec": {
      "name": "python36",
      "display_name": "Python 3.6",
      "language": "python"
    },
    "language_info": {
      "mimetype": "text/x-python",
      "nbconvert_exporter": "python",
      "name": "python",
      "pygments_lexer": "ipython3",
      "version": "3.6.6",
      "file_extension": ".py",
      "codemirror_mode": {
        "version": 3,
        "name": "ipython"
      }
    }
  },
  "nbformat": 4,
  "nbformat_minor": 2
}