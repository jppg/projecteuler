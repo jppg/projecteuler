{
  "nbformat": 4,
  "nbformat_minor": 0,
  "metadata": {
    "colab": {
      "name": "014-LongestCollatzSequence.ipynb",
      "provenance": [],
      "include_colab_link": true
    },
    "kernelspec": {
      "name": "python3",
      "display_name": "Python 3"
    },
    "accelerator": "TPU"
  },
  "cells": [
    {
      "cell_type": "markdown",
      "metadata": {
        "id": "view-in-github",
        "colab_type": "text"
      },
      "source": [
        "<a href=\"https://colab.research.google.com/github/jppg/projecteuler/blob/master/014_LongestCollatzSequence.ipynb\" target=\"_parent\"><img src=\"https://colab.research.google.com/assets/colab-badge.svg\" alt=\"Open In Colab\"/></a>"
      ]
    },
    {
      "cell_type": "markdown",
      "metadata": {
        "id": "vOPARAkU9T_U",
        "colab_type": "text"
      },
      "source": [
        "## Longest Collatz sequence"
      ]
    },
    {
      "cell_type": "markdown",
      "metadata": {
        "id": "zdEusBuS9YeU",
        "colab_type": "text"
      },
      "source": [
        "\n",
        "\n",
        "The following iterative sequence is defined for the set of positive integers:\n",
        "\n",
        "n → n/2 (n is even) </br>\n",
        "n → 3n + 1 (n is odd)\n",
        "\n",
        "Using the rule above and starting with 13, we generate the following sequence:\n",
        "13 → 40 → 20 → 10 → 5 → 16 → 8 → 4 → 2 → 1\n",
        "\n",
        "It can be seen that this sequence (starting at 13 and finishing at 1) contains 10 terms. Although it has not been proved yet (Collatz Problem), it is thought that all starting numbers finish at 1.\n",
        "\n",
        "Which starting number, under one million, produces the longest chain?\n",
        "\n",
        "NOTE: Once the chain starts the terms are allowed to go above one million.\n"
      ]
    },
    {
      "cell_type": "code",
      "metadata": {
        "id": "LOmk-vjS9m2v",
        "colab_type": "code",
        "colab": {
          "base_uri": "https://localhost:8080/",
          "height": 34
        },
        "outputId": "fad3d391-8c83-4991-8a5e-ad84756a1727"
      },
      "source": [
        "def getCollatzSequence(n):\n",
        "  output = 0\n",
        "  if n == 1:\n",
        "    output = 1\n",
        "  elif n%2 == 0:\n",
        "    output = n/2\n",
        "  else:\n",
        "    output = 3*n+1\n",
        "  \n",
        "  return output\n",
        "\n",
        "maxseqlen = 0\n",
        "maxseq = 0\n",
        "for i in range(1, 1000000):\n",
        "  n = i\n",
        "  seq = [n]\n",
        "  \n",
        "  while(n != 1):\n",
        "    n = getCollatzSequence(n)\n",
        "    seq.append(n)\n",
        "  if len(seq) > maxseqlen:\n",
        "    maxseqlen = len(seq)\n",
        "    maxseq = i\n",
        "\n",
        "print(\"n=\", maxseq, \" len=\", maxseqlen)"
      ],
      "execution_count": 19,
      "outputs": [
        {
          "output_type": "stream",
          "text": [
            "n= 837799  len= 525\n"
          ],
          "name": "stdout"
        }
      ]
    },
    {
      "cell_type": "code",
      "metadata": {
        "id": "F35ezwMRBdue",
        "colab_type": "code",
        "colab": {}
      },
      "source": [
        ""
      ],
      "execution_count": 0,
      "outputs": []
    }
  ]
}