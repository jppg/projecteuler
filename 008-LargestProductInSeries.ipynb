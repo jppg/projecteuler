{
  "cells": [
    {
      "metadata": {
        "collapsed": true
      },
      "cell_type": "markdown",
      "source": "## Largest product in a series"
    },
    {
      "metadata": {},
      "cell_type": "markdown",
      "source": "The four adjacent digits in the 1000-digit number that have the greatest product are 9 × 9 × 8 × 9 = 5832.\nFind the thirteen adjacent digits in the 1000-digit number that have the greatest product. What is the value of this product?"
    },
    {
      "metadata": {
        "trusted": true
      },
      "cell_type": "code",
      "source": "str1000digitN = \"7316717653133062491922511967442657474235534919493496983520312774506326239578318016984801869478851843858615607891129494954595017379583319528532088055111254069874715852386305071569329096329522744304355766896648950445244523161731856403098711121722383113622298934233803081353362766142828064444866452387493035890729629049156044077239071381051585930796086670172427121883998797908792274921901699720888093776657273330010533678812202354218097512545405947522435258490771167055601360483958644670632441572215539753697817977846174064955149290862569321978468622482839722413756570560574902614079729686524145351004748216637048440319989000889524345065854122758866688116427171479924442928230863465674813919123162824586178664583591245665294765456828489128831426076900422421902267105562632111110937054421750694165896040807198403850962455444362981230987879927244284909188845801561660979191338754992005240636899125607176060588611646710940507754100225698315520005593572972571636269561882670428252483600823257530420752963450\"\n_winRange = 13\n_max = 0\n_maxProd = 1\n_seq = \"\"\n_len = len(str1000digitN)\n\nfor i in range(0, _len):\n    txt = str1000digitN[i:_winRange+i]\n    val = int(txt)\n    lst = list(txt)\n    prod = 1\n    for n in lst:        \n        prod *= int(n)\n    \n    if(val > _max):\n        _max = val\n    \n    if(prod > _maxProd):\n        _maxProd = prod\n        _seq = val\n\nprint(\"Max number: \", _max)\nprint(\"Sequence with max product: \", _seq)\nprint(\"Product: \", _maxProd)",
      "execution_count": 29,
      "outputs": [
        {
          "output_type": "stream",
          "text": "Max number:  9989000889524\nSequence with max product:  5576689664895\nMax product:  23514624000\n",
          "name": "stdout"
        }
      ]
    },
    {
      "metadata": {
        "trusted": true
      },
      "cell_type": "code",
      "source": "9*9*8*9",
      "execution_count": 28,
      "outputs": [
        {
          "output_type": "execute_result",
          "execution_count": 28,
          "data": {
            "text/plain": "5832"
          },
          "metadata": {}
        }
      ]
    },
    {
      "metadata": {
        "trusted": true
      },
      "cell_type": "code",
      "source": "",
      "execution_count": null,
      "outputs": []
    }
  ],
  "metadata": {
    "kernelspec": {
      "name": "python36",
      "display_name": "Python 3.6",
      "language": "python"
    },
    "language_info": {
      "mimetype": "text/x-python",
      "nbconvert_exporter": "python",
      "name": "python",
      "pygments_lexer": "ipython3",
      "version": "3.6.6",
      "file_extension": ".py",
      "codemirror_mode": {
        "version": 3,
        "name": "ipython"
      }
    }
  },
  "nbformat": 4,
  "nbformat_minor": 2
}