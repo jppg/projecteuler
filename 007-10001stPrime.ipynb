{
  "cells": [
    {
      "metadata": {
        "collapsed": true
      },
      "cell_type": "markdown",
      "source": "## 10001st prime"
    },
    {
      "metadata": {},
      "cell_type": "markdown",
      "source": "By listing the first six prime numbers: 2, 3, 5, 7, 11, and 13, we can see that the 6th prime is 13.\n\nWhat is the 10 001st prime number?"
    },
    {
      "metadata": {
        "trusted": true
      },
      "cell_type": "code",
      "source": "def is_prime(n):\n    result = True\n    for i in range(2,n):\n        if(n%i == 0):\n            result = False\n            break\n    return result",
      "execution_count": 1,
      "outputs": []
    },
    {
      "metadata": {
        "trusted": true
      },
      "cell_type": "code",
      "source": "def first_prime_numbers(n):\n    stop = False\n    cnt = 0\n    i = 2\n    while cnt < n:\n        if is_prime(i):\n            cnt += 1\n        i += 1\n    print(i-1)",
      "execution_count": 28,
      "outputs": []
    },
    {
      "metadata": {
        "trusted": true
      },
      "cell_type": "code",
      "source": "first_prime_numbers(6)",
      "execution_count": 29,
      "outputs": [
        {
          "output_type": "stream",
          "text": "13\n",
          "name": "stdout"
        }
      ]
    },
    {
      "metadata": {
        "trusted": true
      },
      "cell_type": "code",
      "source": "first_prime_numbers(10001)",
      "execution_count": 30,
      "outputs": [
        {
          "output_type": "stream",
          "text": "104743\n",
          "name": "stdout"
        }
      ]
    },
    {
      "metadata": {
        "trusted": true
      },
      "cell_type": "code",
      "source": "",
      "execution_count": null,
      "outputs": []
    }
  ],
  "metadata": {
    "kernelspec": {
      "name": "python36",
      "display_name": "Python 3.6",
      "language": "python"
    },
    "language_info": {
      "mimetype": "text/x-python",
      "nbconvert_exporter": "python",
      "name": "python",
      "pygments_lexer": "ipython3",
      "version": "3.6.6",
      "file_extension": ".py",
      "codemirror_mode": {
        "version": 3,
        "name": "ipython"
      }
    }
  },
  "nbformat": 4,
  "nbformat_minor": 2
}