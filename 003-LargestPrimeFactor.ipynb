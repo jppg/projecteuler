{
  "cells": [
    {
      "metadata": {},
      "cell_type": "markdown",
      "source": "## \tLargest prime factor"
    },
    {
      "metadata": {},
      "cell_type": "markdown",
      "source": "The prime factors of 13195 are 5, 7, 13 and 29.\n\nWhat is the largest prime factor of the number 600851475143 ?"
    },
    {
      "metadata": {},
      "cell_type": "markdown",
      "source": "https://www.mathsisfun.com/prime-factorization.html"
    },
    {
      "metadata": {
        "trusted": true
      },
      "cell_type": "code",
      "source": "print(5*7*13*29)",
      "execution_count": 1,
      "outputs": [
        {
          "output_type": "stream",
          "text": "13195\n",
          "name": "stdout"
        }
      ]
    },
    {
      "metadata": {
        "trusted": true
      },
      "cell_type": "code",
      "source": "def is_prime(n):\n    result = True\n    for i in range(2,n):\n        if(n%i == 0):\n            result = False\n            break\n    return result",
      "execution_count": 2,
      "outputs": []
    },
    {
      "metadata": {
        "trusted": true
      },
      "cell_type": "code",
      "source": "is_prime(5)",
      "execution_count": 18,
      "outputs": [
        {
          "output_type": "execute_result",
          "execution_count": 18,
          "data": {
            "text/plain": "True"
          },
          "metadata": {}
        }
      ]
    },
    {
      "metadata": {
        "trusted": true
      },
      "cell_type": "code",
      "source": "def prime_numbers(n):\n    nprimes = []\n    for i in range(2,n):\n        if is_prime(i):\n            nprimes.append(i)\n    return nprimes",
      "execution_count": 4,
      "outputs": []
    },
    {
      "metadata": {
        "trusted": true
      },
      "cell_type": "code",
      "source": "prime_numbers(30)",
      "execution_count": 5,
      "outputs": [
        {
          "output_type": "execute_result",
          "execution_count": 5,
          "data": {
            "text/plain": "[2, 3, 5, 7, 11, 13, 17, 19, 23, 29]"
          },
          "metadata": {}
        }
      ]
    },
    {
      "metadata": {
        "trusted": true
      },
      "cell_type": "code",
      "source": "def prime_factors(n):\n    for i in lst_prime_numbers:\n        if n%i == 0:\n            print(i)\n            nxt = int(n/i)\n            if(nxt in lst_prime_numbers):\n                return nxt\n            else:\n                return prime_factors(nxt)",
      "execution_count": 42,
      "outputs": []
    },
    {
      "metadata": {
        "trusted": true
      },
      "cell_type": "code",
      "source": "n = 13195\nlst_prime_numbers = prime_numbers(10000)\nprime_factors(n)",
      "execution_count": 43,
      "outputs": [
        {
          "output_type": "stream",
          "text": "5\n7\n13\n",
          "name": "stdout"
        },
        {
          "output_type": "execute_result",
          "execution_count": 43,
          "data": {
            "text/plain": "29"
          },
          "metadata": {}
        }
      ]
    },
    {
      "metadata": {
        "trusted": true
      },
      "cell_type": "code",
      "source": "n = 600851475143\nlst_prime_numbers = prime_numbers(10000)\nprime_factors(n)",
      "execution_count": 37,
      "outputs": [
        {
          "output_type": "stream",
          "text": "71\n839\n1471\n",
          "name": "stdout"
        },
        {
          "output_type": "execute_result",
          "execution_count": 37,
          "data": {
            "text/plain": "6857"
          },
          "metadata": {}
        }
      ]
    },
    {
      "metadata": {
        "trusted": true
      },
      "cell_type": "code",
      "source": "71*839*1471*6857",
      "execution_count": 38,
      "outputs": [
        {
          "output_type": "execute_result",
          "execution_count": 38,
          "data": {
            "text/plain": "600851475143"
          },
          "metadata": {}
        }
      ]
    },
    {
      "metadata": {
        "trusted": true
      },
      "cell_type": "code",
      "source": "",
      "execution_count": null,
      "outputs": []
    }
  ],
  "metadata": {
    "kernelspec": {
      "name": "python36",
      "display_name": "Python 3.6",
      "language": "python"
    },
    "language_info": {
      "mimetype": "text/x-python",
      "nbconvert_exporter": "python",
      "name": "python",
      "pygments_lexer": "ipython3",
      "version": "3.6.6",
      "file_extension": ".py",
      "codemirror_mode": {
        "version": 3,
        "name": "ipython"
      }
    }
  },
  "nbformat": 4,
  "nbformat_minor": 1
}