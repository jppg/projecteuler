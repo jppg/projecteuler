{
  "nbformat": 4,
  "nbformat_minor": 0,
  "metadata": {
    "colab": {
      "name": "016-PowerDigitSum.ipynb",
      "provenance": [],
      "include_colab_link": true
    },
    "kernelspec": {
      "name": "python3",
      "display_name": "Python 3"
    }
  },
  "cells": [
    {
      "cell_type": "markdown",
      "metadata": {
        "id": "view-in-github",
        "colab_type": "text"
      },
      "source": [
        "<a href=\"https://colab.research.google.com/github/jppg/projecteuler/blob/master/016_PowerDigitSum.ipynb\" target=\"_parent\"><img src=\"https://colab.research.google.com/assets/colab-badge.svg\" alt=\"Open In Colab\"/></a>"
      ]
    },
    {
      "cell_type": "markdown",
      "metadata": {
        "id": "LuQ2rsyYcJnx",
        "colab_type": "text"
      },
      "source": [
        "## Power digit sum\n",
        "2^15 = 32768 and the sum of its digits is 3 + 2 + 7 + 6 + 8 = 26.\n",
        "\n",
        "What is the sum of the digits of the number 2^1000\n"
      ]
    },
    {
      "cell_type": "code",
      "metadata": {
        "id": "kUnYFpBFcEC5",
        "colab_type": "code",
        "colab": {
          "base_uri": "https://localhost:8080/",
          "height": 34
        },
        "outputId": "a39069a7-c005-4b44-c3cd-d03105e526cf"
      },
      "source": [
        "def powerDigitSum(num, power):\n",
        "  res = pow(num,power)\n",
        "  strRes = str(res)\n",
        "  sumRes = 0\n",
        "  for n in strRes:\n",
        "    sumRes += int(n)\n",
        "  print(\"Result = \", sumRes)\n",
        "\n",
        "powerDigitSum(2,1000)"
      ],
      "execution_count": 12,
      "outputs": [
        {
          "output_type": "stream",
          "text": [
            "Result =  1366\n"
          ],
          "name": "stdout"
        }
      ]
    },
    {
      "cell_type": "code",
      "metadata": {
        "id": "j_OGOTJydmWl",
        "colab_type": "code",
        "colab": {}
      },
      "source": [
        ""
      ],
      "execution_count": 0,
      "outputs": []
    }
  ]
}