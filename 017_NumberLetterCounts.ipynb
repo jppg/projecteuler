{
  "nbformat": 4,
  "nbformat_minor": 0,
  "metadata": {
    "colab": {
      "name": "017-NumberLetterCounts.ipynb",
      "provenance": [],
      "include_colab_link": true
    },
    "kernelspec": {
      "name": "python3",
      "display_name": "Python 3"
    }
  },
  "cells": [
    {
      "cell_type": "markdown",
      "metadata": {
        "id": "view-in-github",
        "colab_type": "text"
      },
      "source": [
        "<a href=\"https://colab.research.google.com/github/jppg/projecteuler/blob/master/017_NumberLetterCounts.ipynb\" target=\"_parent\"><img src=\"https://colab.research.google.com/assets/colab-badge.svg\" alt=\"Open In Colab\"/></a>"
      ]
    },
    {
      "cell_type": "markdown",
      "metadata": {
        "id": "nZ4BGvm3fQD9",
        "colab_type": "text"
      },
      "source": [
        "## Number letter counts\n",
        "\n",
        "If the numbers 1 to 5 are written out in words: one, two, three, four, five, then there are 3 + 3 + 5 + 4 + 4 = 19 letters used in total.\n",
        "\n",
        "If all the numbers from 1 to 1000 (one thousand) inclusive were written out in words, how many letters would be used?\n",
        "\n",
        "NOTE: Do not count spaces or hyphens. For example, 342 (three hundred and forty-two) contains 23 letters and 115 (one hundred and fifteen) contains 20 letters. The use of \"and\" when writing out numbers is in compliance with British usage.\n"
      ]
    },
    {
      "cell_type": "code",
      "metadata": {
        "id": "Q4tCIciVfMGz",
        "colab_type": "code",
        "outputId": "4849c6ca-172f-4a26-eb52-cc9306bc0525",
        "colab": {
          "base_uri": "https://localhost:8080/",
          "height": 34
        }
      },
      "source": [
        "import math\n",
        "\n",
        "def convertNumberToLetters(num):\n",
        "  result = \"\"\n",
        "  thousands = math.floor(num/1000)\n",
        "  if(thousands > 0):\n",
        "    result = getNumberLetter(thousands) + \"thousand\"\n",
        "  \n",
        "  num = num - thousands * 1000\n",
        "  hundreds = math.floor(num/100)\n",
        "  if(hundreds > 0):\n",
        "    if len(result) > 0:\n",
        "      result += \"and\"\n",
        "    result += getNumberLetter(hundreds) + \"hundred\"\n",
        "  \n",
        "  num = num - hundreds * 100\n",
        "  tens = math.floor(num/10)\n",
        "  if tens > 0 and len(result) > 0:\n",
        "        result += \"and\"\n",
        "\n",
        "  if num >= 20:\n",
        "    if(tens > 0):\n",
        "      if tens == 2:\n",
        "        result += \"twenty\"\n",
        "      elif tens == 3:\n",
        "        result += \"thirty\"\n",
        "      elif tens == 4:\n",
        "        result += \"forty\"\n",
        "      elif tens == 5:\n",
        "        result += \"fifty\"\n",
        "      elif tens == 8:\n",
        "        result += \"eighty\"\n",
        "      else:\n",
        "        result += getNumberLetter(tens) + \"ty\"\n",
        "  \n",
        "  if(tens >= 2):\n",
        "    num = num - tens * 10\n",
        "\n",
        "  if tens == 0 and num > 0 and len(result) > 0:\n",
        "        result += \"and\"\n",
        "\n",
        "  if(num > 0):\n",
        "    result += getNumberLetter(num)\n",
        "\n",
        "  return result\n",
        "\n",
        "def getNumberLetter(num):\n",
        "  strNumber = \"\"\n",
        "  if num == 1:\n",
        "    strNumber = \"one\"\n",
        "  elif num == 2:\n",
        "    strNumber = \"two\"\n",
        "  elif num == 3:\n",
        "    strNumber = \"three\"\n",
        "  elif num == 4:\n",
        "    strNumber = \"four\"\n",
        "  elif num == 5:\n",
        "    strNumber = \"five\"\n",
        "  elif num == 6:\n",
        "    strNumber = \"six\"\n",
        "  elif num == 7:\n",
        "    strNumber = \"seven\"\n",
        "  elif num == 8:\n",
        "    strNumber = \"eight\"\n",
        "  elif num == 9:\n",
        "    strNumber = \"nine\"\n",
        "  elif num == 10:\n",
        "    strNumber = \"ten\"\n",
        "  elif num == 11:\n",
        "    strNumber = \"eleven\"\n",
        "  elif num == 12:\n",
        "    strNumber = \"twelve\"\n",
        "  elif num == 13:\n",
        "    strNumber = \"thirteen\"\n",
        "  elif num == 14:\n",
        "    strNumber = \"fourteen\"\n",
        "  elif num == 15:\n",
        "    strNumber = \"fifteen\"\n",
        "  elif num == 16:\n",
        "    strNumber = \"sixteen\"\n",
        "  elif num == 17:\n",
        "    strNumber = \"seventeen\"\n",
        "  elif num == 18:\n",
        "    strNumber = \"eighteen\"\n",
        "  elif num == 19:\n",
        "    strNumber = \"nineteen\"\n",
        "  return strNumber\n",
        "\n",
        "total = \"\"\n",
        "for i in range(1,1001):\n",
        "  #print(convertNumberToLetters(i))\n",
        "  total += str(convertNumberToLetters(i))\n",
        "\n",
        "print(len(total))\n"
      ],
      "execution_count": 16,
      "outputs": [
        {
          "output_type": "stream",
          "text": [
            "21124\n"
          ],
          "name": "stdout"
        }
      ]
    },
    {
      "cell_type": "code",
      "metadata": {
        "id": "vUIpKMGzfGr_",
        "colab_type": "code",
        "colab": {}
      },
      "source": [
        ""
      ],
      "execution_count": 0,
      "outputs": []
    }
  ]
}