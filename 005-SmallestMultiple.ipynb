{
  "cells": [
    {
      "metadata": {
        "collapsed": true
      },
      "cell_type": "markdown",
      "source": "## Smallest multiple"
    },
    {
      "metadata": {},
      "cell_type": "markdown",
      "source": "2520 is the smallest number that can be divided by each of the numbers from 1 to 10 without any remainder.\n\nWhat is the smallest positive number that is evenly divisible by all of the numbers from 1 to 20?"
    },
    {
      "metadata": {
        "trusted": true
      },
      "cell_type": "code",
      "source": "MIN = 1000000\nn = MIN\nlimit = 20\nstop = False\nwhile stop == False:\n    n += limit \n    remainder = 0\n    for i in reversed(range(2, limit+1)):\n        remainder = n%i\n        if remainder != 0:\n            break\n    if remainder == 0:\n        print(n)\n        stop = True\n        break",
      "execution_count": 19,
      "outputs": [
        {
          "output_type": "stream",
          "text": "232792560\n",
          "name": "stdout"
        }
      ]
    },
    {
      "metadata": {
        "trusted": true
      },
      "cell_type": "code",
      "source": "",
      "execution_count": null,
      "outputs": []
    }
  ],
  "metadata": {
    "kernelspec": {
      "name": "python36",
      "display_name": "Python 3.6",
      "language": "python"
    },
    "language_info": {
      "mimetype": "text/x-python",
      "nbconvert_exporter": "python",
      "name": "python",
      "pygments_lexer": "ipython3",
      "version": "3.6.6",
      "file_extension": ".py",
      "codemirror_mode": {
        "version": 3,
        "name": "ipython"
      }
    }
  },
  "nbformat": 4,
  "nbformat_minor": 2
}