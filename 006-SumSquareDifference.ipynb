{
  "cells": [
    {
      "metadata": {
        "collapsed": true
      },
      "cell_type": "markdown",
      "source": "## Sum square difference"
    },
    {
      "metadata": {},
      "cell_type": "markdown",
      "source": "The sum of the squares of the first ten natural numbers is,\n\n1^2 + 2^2 + ... + 10^2 = 385\n\nThe square of the sum of the first ten natural numbers is,\n\n(1 + 2 + ... + 10)^2 = 55^2 = 3025\n\nHence the difference between the sum of the squares of the first ten natural numbers and the square of the sum is 3025 − 385 = 2640.\n\nFind the difference between the sum of the squares of the first one hundred natural numbers and the square of the sum."
    },
    {
      "metadata": {
        "trusted": true
      },
      "cell_type": "code",
      "source": "import math  \n\nfirstNaturalNbrs = 100\nsumOfSquares = 0\nsquareOfSum = 0\nfor i in range(1, firstNaturalNbrs+1):\n    sumOfSquares += math.pow(i,2)\n    squareOfSum += i\nsquareOfSum = math.pow(squareOfSum,2)\nresult = squareOfSum - sumOfSquares\nprint(sumOfSquares)\nprint(squareOfSum)\nprint(result)",
      "execution_count": 10,
      "outputs": [
        {
          "output_type": "stream",
          "text": "338350.0\n25502500.0\n25164150.0\n",
          "name": "stdout"
        }
      ]
    },
    {
      "metadata": {
        "trusted": true
      },
      "cell_type": "code",
      "source": "",
      "execution_count": null,
      "outputs": []
    }
  ],
  "metadata": {
    "kernelspec": {
      "name": "python36",
      "display_name": "Python 3.6",
      "language": "python"
    },
    "language_info": {
      "mimetype": "text/x-python",
      "nbconvert_exporter": "python",
      "name": "python",
      "pygments_lexer": "ipython3",
      "version": "3.6.6",
      "file_extension": ".py",
      "codemirror_mode": {
        "version": 3,
        "name": "ipython"
      }
    }
  },
  "nbformat": 4,
  "nbformat_minor": 2
}